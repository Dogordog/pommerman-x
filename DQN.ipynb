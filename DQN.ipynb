{
 "cells": [
  {
   "cell_type": "markdown",
   "metadata": {},
   "source": [
    "# DQN"
   ]
  },
  {
   "cell_type": "markdown",
   "metadata": {},
   "source": [
    "Mikhail Papkov, 17.06.2018"
   ]
  },
  {
   "cell_type": "markdown",
   "metadata": {},
   "source": [
    "-----------------"
   ]
  },
  {
   "cell_type": "markdown",
   "metadata": {},
   "source": [
    "Here we will train the original DQN model on our Pommerman data and compare results with the imitation pre-training and without it"
   ]
  },
  {
   "cell_type": "markdown",
   "metadata": {},
   "source": [
    "DQN paper: https://www.nature.com/articles/nature14236.pdf\n",
    "\n",
    "Pre-training paper: https://arxiv.org/pdf/1709.04083.pdf"
   ]
  },
  {
   "cell_type": "code",
   "execution_count": 30,
   "metadata": {
    "collapsed": true
   },
   "outputs": [],
   "source": [
    "import os\n",
    "import sys\n",
    "import time\n",
    "import numpy as np\n",
    "\n",
    "# GPU specifications\n",
    "os.environ['KERAS_BACKEND'] = 'tensorflow'\n",
    "os.environ[\"CUDA_VISIBLE_DEVICES\"]=\"7\"\n",
    "\n",
    "sys.path.append('/path/to/pommerman/playground/')\n",
    "sys.path.append('/path/to/evaluation_utils.py/')"
   ]
  },
  {
   "cell_type": "code",
   "execution_count": 61,
   "metadata": {
    "collapsed": true
   },
   "outputs": [],
   "source": [
    "import tensorflow as tf\n",
    "from matplotlib import pyplot as plt\n",
    "\n",
    "from sklearn.model_selection import train_test_split\n",
    "\n",
    "from keras.callbacks import EarlyStopping, ModelCheckpoint, ReduceLROnPlateau, CSVLogger\n",
    "from keras.layers import Input, Dense, Flatten, Conv2D, Conv3D, BatchNormalization, Activation, Add\n",
    "from keras.models import Model, Sequential, load_model\n",
    "from keras.utils import to_categorical\n",
    "from keras.optimizers import Adadelta, Adam\n",
    "from keras import backend as K\n",
    "\n",
    "import warnings\n",
    "from rl.agents.dqn import DQNAgent\n",
    "from rl.policy import BoltzmannQPolicy, LinearAnnealedPolicy, EpsGreedyQPolicy\n",
    "from rl.memory import SequentialMemory\n",
    "from rl.core import Env, Processor\n",
    "from rl.callbacks import FileLogger, ModelIntervalCheckpoint, Callback\n",
    "\n",
    "from pommerman.agents import SimpleAgent, RandomAgent, PlayerAgent, BaseAgent\n",
    "from pommerman.configs import ffa_v0_fast_env as ffa_v0_env\n",
    "from pommerman.configs import ffa_v0_fast_env \n",
    "from pommerman.envs.v0 import Pomme\n",
    "from pommerman.characters import Bomber\n",
    "from pommerman import utility\n",
    "from pommerman.constants import *\n",
    "\n",
    "from tqdm import tqdm_notebook as tqdm"
   ]
  },
  {
   "cell_type": "code",
   "execution_count": null,
   "metadata": {
    "collapsed": true
   },
   "outputs": [],
   "source": [
    "from evaluation_utils import *"
   ]
  },
  {
   "cell_type": "code",
   "execution_count": 3,
   "metadata": {
    "collapsed": true
   },
   "outputs": [],
   "source": [
    "view_size = BOARD_SIZE * 2 - 1  # 21\n",
    "history_length = 4\n",
    "n_channels = 18\n",
    "ACTIONS = ['stop', 'up', 'down', 'left', 'right', 'bomb']"
   ]
  },
  {
   "cell_type": "code",
   "execution_count": 4,
   "metadata": {},
   "outputs": [
    {
     "name": "stdout",
     "output_type": "stream",
     "text": [
      "\u001b[33mWARN: gym.spaces.Box autodetected dtype as <class 'numpy.float32'>. Please provide explicit dtype.\u001b[0m\n"
     ]
    }
   ],
   "source": [
    "# Instantiate the environment\n",
    "config = ffa_v0_fast_env()\n",
    "env = Pomme(**config[\"env_kwargs\"])"
   ]
  },
  {
   "cell_type": "markdown",
   "metadata": {},
   "source": [
    "### Data for the pre-training"
   ]
  },
  {
   "cell_type": "code",
   "execution_count": 5,
   "metadata": {
    "collapsed": true
   },
   "outputs": [],
   "source": [
    "train_data_path = './dataset/'\n",
    "train_data_obs = os.path.join(train_data_path, 'obs.npy')\n",
    "train_data_labels = os.path.join(train_data_path, 'labels.npy')\n",
    "train_data_reward = os.path.join(train_data_path, 'reward.npy')\n",
    "train_data_obs_map_history = os.path.join(train_data_path, 'obs_map_history.npy')"
   ]
  },
  {
   "cell_type": "code",
   "execution_count": 19,
   "metadata": {},
   "outputs": [
    {
     "name": "stdout",
     "output_type": "stream",
     "text": [
      "Loaded\n"
     ]
    },
    {
     "data": {
      "text/plain": [
       "(670725, 4, 21, 21, 18)"
      ]
     },
     "execution_count": 19,
     "metadata": {},
     "output_type": "execute_result"
    }
   ],
   "source": [
    "if os.path.isdir(train_data_path):\n",
    "    observations = np.load(train_data_obs_map_history)\n",
    "    labels = np.load(train_data_labels)\n",
    "    labels = to_categorical(labels, env.action_space.n)\n",
    "    print('Loaded')\n",
    "else:\n",
    "    assert False\n",
    "\n",
    "observations.shape"
   ]
  },
  {
   "cell_type": "markdown",
   "metadata": {},
   "source": [
    "Concatenate time steps to the channel dimension"
   ]
  },
  {
   "cell_type": "code",
   "execution_count": 20,
   "metadata": {},
   "outputs": [
    {
     "data": {
      "text/plain": [
       "(670725, 21, 21, 72)"
      ]
     },
     "execution_count": 20,
     "metadata": {},
     "output_type": "execute_result"
    }
   ],
   "source": [
    "observations = np.array([np.concatenate(obs, axis=-1) for obs in observations])\n",
    "observations.shape"
   ]
  },
  {
   "cell_type": "markdown",
   "metadata": {},
   "source": [
    "### Featurization and evaluation functions"
   ]
  },
  {
   "cell_type": "markdown",
   "metadata": {},
   "source": [
    "## Agent"
   ]
  },
  {
   "cell_type": "code",
   "execution_count": 79,
   "metadata": {
    "collapsed": true
   },
   "outputs": [],
   "source": [
    "class PretrainedAgent(EvaluatorAgent):\n",
    "    def __init__(self, n_actions, character, \n",
    "                 checkpoint_path, log_path,\n",
    "                 load_weights=False,\n",
    "                 verbose=False,\n",
    "                 patient=True,\n",
    "                 random_state=0):\n",
    "        super(PretrainedAgent, self).__init__(character=character, n_actions=n_actions)\n",
    "        \n",
    "        self.current_epoch = 0\n",
    "        \n",
    "        # Logs\n",
    "        self.checkpoint_path = checkpoint_path\n",
    "        if not os.path.isdir(os.path.dirname(checkpoint_path)):\n",
    "            os.makedirs(os.path.dirname(checkpoint_path))    \n",
    "        self.log_path = log_path\n",
    "        if not os.path.isdir(os.path.dirname(log_path)):\n",
    "            os.makedirs(os.path.dirname(log_path))   \n",
    "        self.logger = Logger(self.log_path)\n",
    "        \n",
    "        # Networks\n",
    "        self.headless = self.get_headless_model()\n",
    "        self.pretraining_network = self.create_pretraining_network()\n",
    "        self.rl_network = self.create_rl_network()\n",
    "        \n",
    "        if load_weights:\n",
    "            self.load_weights()\n",
    "    \n",
    "    def load_weights(self, weights_path=''):\n",
    "        def lw(path):\n",
    "            if os.path.isfile(path):\n",
    "                try:\n",
    "                    print(\"Trying to load weights\")\n",
    "                    self.pretraining_network.load_weights(path)\n",
    "#                     self.rl_network.load_weights(path)\n",
    "                    print(\"Weights were loaded successful\")\n",
    "                except:\n",
    "                    print(\"Weights load failed\")\n",
    "            else:\n",
    "                print('Wrong weights path')\n",
    "                    \n",
    "        if weights_path:\n",
    "            lw(weights_path)\n",
    "        else:\n",
    "            lw(self.checkpoint_path)\n",
    "    \n",
    "    # Models definition\n",
    "    def get_headless_model(self, make_2d=True):\n",
    "        # Original DQN with minor changes\n",
    "        if make_2d:\n",
    "            headless = [\n",
    "                         Conv2D(32, kernel_size=2, strides=(1,1), # Original: kernel_size=8, strides=(4,4)\n",
    "                                input_shape=(view_size,view_size,n_channels*history_length)),\n",
    "    #                     BatchNormalization(),\n",
    "                         Activation('relu'),\n",
    "                         Conv2D(64, kernel_size=2, strides=(1,1)), # Original: kernel_size=4, strides=(2,2)\n",
    "    #                     BatchNormalization(),\n",
    "                         Activation('relu'),\n",
    "                         Conv2D(64, kernel_size=2, strides=(1,1)), # Original: kernel_size=3, strides=(1,1)\n",
    "    #                     BatchNormalization(),\n",
    "                         Activation('relu'),\n",
    "                         Flatten(),\n",
    "                         Dense(512, activation='relu')\n",
    "                        ]\n",
    "        \n",
    "        else:\n",
    "            headless = [\n",
    "                         Conv3D(32, kernel_size=3, strides=(2,2,2), # Original: kernel_size=8, strides=(4,4)\n",
    "                                input_shape=(history_length,view_size,view_size,n_channels),\n",
    "                                data_format='channels_first'),\n",
    "#                         BatchNormalization(),\n",
    "                         Activation('relu'),\n",
    "                         Conv3D(64, kernel_size=2, strides=(1,1,1),\n",
    "                                data_format='channels_first'), # Original: kernel_size=4, strides=(2,2)\n",
    "#                         BatchNormalization(),\n",
    "                         Activation('relu'),\n",
    "                         Conv3D(64, kernel_size=2, strides=(1,1,1),\n",
    "                                data_format='channels_first'), # Original: kernel_size=3, strides=(1,1)\n",
    "#                         BatchNormalization(),\n",
    "                         Activation('relu'),\n",
    "                         Flatten(),\n",
    "                         Dense(512, activation='relu')\n",
    "                       ]\n",
    "        \n",
    "        return headless\n",
    "    \n",
    "    # Also, RL network uses Huber loss\n",
    "    @staticmethod\n",
    "    def huber_loss(y_true, y_pred):\n",
    "            return tf.losses.huber_loss(y_true,y_pred)\n",
    "    \n",
    "    def create_pretraining_network(self):\n",
    "        # Output layer for pre-training uses softmax activation\n",
    "        model = Sequential(name='pretraining',\n",
    "                           layers=self.headless+[Dense(self.n_actions, activation='softmax')])\n",
    "        model.compile(optimizer=Adam(lr=0.0005), \n",
    "                      loss='categorical_crossentropy', metrics=['accuracy'])\n",
    "        return model\n",
    "        \n",
    "    def create_rl_network(self):\n",
    "        # Output layer for RL uses linear or tanh activation\n",
    "        model = Sequential(name='rl',\n",
    "                           layers=[Sequential(self.headless),\n",
    "                                   Dense(self.n_actions, activation='linear')])\n",
    "        model.compile(optimizer=Adam(lr=0.0005), \n",
    "                      loss=self.huber_loss, metrics=['mae'])\n",
    "        return model\n",
    "    \n",
    "    def create_dueling_dqn_network(self):\n",
    "        # Dueling DQN uses \n",
    "        model = Sequential(name='dqn',\n",
    "                           layers=self.headless+[Dense(self.n_actions+1, activation='linear')])\n",
    "        model.compile(optimizer=Adam(lr=0.0005), \n",
    "                      loss=self.huber_loss, metrics=['mae'])\n",
    "        return model\n",
    "    \n",
    "    # Loggers definition\n",
    "    def add_log(self, tag, value, step):\n",
    "        self.logger.log_scalar(tag, value, step)\n",
    "    \n",
    "    def log_history(self, history):\n",
    "        def log(history, name, text=None):\n",
    "            if text is None:\n",
    "                text = name\n",
    "            for ind, el in enumerate(history[name]):\n",
    "                self.add_log(text, el, self.current_epoch + ind + 1)\n",
    "        log(history.history, 'val_loss')\n",
    "        log(history.history, 'val_acc')\n",
    "        log(history.history, 'loss')\n",
    "        log(history.history, 'acc')\n",
    "        log(history.history, 'lr')\n",
    "    \n",
    "    # Training\n",
    "    def pretrain(self, observations, labels, batch_size=5000, epochs=100, early_stopping=20,\n",
    "                 save_best_only=True, random_state=392, test_size=0.2, shuffle=True):\n",
    "        # Define callbacks\n",
    "        early_stopping = EarlyStopping(monitor='loss', patience=early_stopping)\n",
    "        checkpoint = ModelCheckpoint(self.checkpoint_path, monitor='val_loss', save_best_only=save_best_only)\n",
    "        reduce_lr = ReduceLROnPlateau(monitor='val_loss', patience=5, verbose=1, factor=0.9, epsilon=0.0001, cooldown=10)\n",
    "        logger = CSVLogger(self.log_path + 'log.csv', append=True)\n",
    "\n",
    "        print(observations.shape, labels.shape)\n",
    "        # Consistent splitting\n",
    "        x_train, x_val, y_train, y_val = train_test_split(observations, labels, test_size=test_size, random_state=random_state, shuffle=shuffle)\n",
    "        history = self.pretraining_network.fit(x=x_train, y=y_train, validation_data=(x_val, y_val),\n",
    "                                              batch_size=batch_size, epochs=epochs, verbose=1,\n",
    "                                              callbacks=[early_stopping, checkpoint, reduce_lr, logger])\n",
    "        # Load the best model\n",
    "        self.pretraining_network.load_weights(self.checkpoint_path)\n",
    "        self.log_history(history)\n",
    "        self.current_epoch += len(history.history['lr'])\n"
   ]
  },
  {
   "cell_type": "markdown",
   "metadata": {},
   "source": [
    "## Pre-training"
   ]
  },
  {
   "cell_type": "code",
   "execution_count": 46,
   "metadata": {
    "collapsed": true
   },
   "outputs": [],
   "source": [
    "model_name = 'deep_mind_dqn_pretrain_2d_2'\n",
    "agent_id = 0"
   ]
  },
  {
   "cell_type": "code",
   "execution_count": 91,
   "metadata": {},
   "outputs": [
    {
     "name": "stdout",
     "output_type": "stream",
     "text": [
      "_________________________________________________________________\n",
      "Layer (type)                 Output Shape              Param #   \n",
      "=================================================================\n",
      "conv2d_1 (Conv2D)            (None, 20, 20, 32)        9248      \n",
      "_________________________________________________________________\n",
      "activation_1 (Activation)    (None, 20, 20, 32)        0         \n",
      "_________________________________________________________________\n",
      "conv2d_2 (Conv2D)            (None, 19, 19, 64)        8256      \n",
      "_________________________________________________________________\n",
      "activation_2 (Activation)    (None, 19, 19, 64)        0         \n",
      "_________________________________________________________________\n",
      "conv2d_3 (Conv2D)            (None, 18, 18, 64)        16448     \n",
      "_________________________________________________________________\n",
      "activation_3 (Activation)    (None, 18, 18, 64)        0         \n",
      "_________________________________________________________________\n",
      "flatten_1 (Flatten)          (None, 20736)             0         \n",
      "_________________________________________________________________\n",
      "dense_1 (Dense)              (None, 512)               10617344  \n",
      "_________________________________________________________________\n",
      "dense_2 (Dense)              (None, 6)                 3078      \n",
      "=================================================================\n",
      "Total params: 10,654,374\n",
      "Trainable params: 10,654,374\n",
      "Non-trainable params: 0\n",
      "_________________________________________________________________\n"
     ]
    }
   ],
   "source": [
    "K.clear_session()\n",
    "agent = PretrainedAgent(env.action_space.n, \n",
    "                        checkpoint_path='./models/dqn/' + model_name + '.h5', \n",
    "                        log_path='./logs/dqn/' + model_name + '/', \n",
    "                        character=config[\"agent\"](agent_id, config[\"game_type\"]))\n",
    "agent.pretraining_network.summary()"
   ]
  },
  {
   "cell_type": "code",
   "execution_count": 93,
   "metadata": {},
   "outputs": [
    {
     "name": "stdout",
     "output_type": "stream",
     "text": [
      "Trying to load weights\n",
      "Weights were loaded successful\n"
     ]
    }
   ],
   "source": [
    "agent.load_weights()"
   ]
  },
  {
   "cell_type": "code",
   "execution_count": 27,
   "metadata": {
    "collapsed": true
   },
   "outputs": [],
   "source": [
    "batch_size = 1024\n",
    "epochs = 15\n",
    "early_stopping = 10"
   ]
  },
  {
   "cell_type": "code",
   "execution_count": 28,
   "metadata": {
    "scrolled": true
   },
   "outputs": [
    {
     "name": "stdout",
     "output_type": "stream",
     "text": [
      "(670725, 21, 21, 72) (670725, 6)\n",
      "Train on 536580 samples, validate on 134145 samples\n",
      "Epoch 1/15\n",
      "536580/536580 [==============================] - 86s - loss: 1.2235 - acc: 0.5088 - val_loss: 1.1002 - val_acc: 0.5529\n",
      "Epoch 2/15\n",
      "536580/536580 [==============================] - 73s - loss: 1.0291 - acc: 0.5811 - val_loss: 1.0211 - val_acc: 0.5812\n",
      "Epoch 3/15\n",
      "536580/536580 [==============================] - 67s - loss: 0.9295 - acc: 0.6179 - val_loss: 0.9755 - val_acc: 0.6016\n",
      "Epoch 4/15\n",
      "536580/536580 [==============================] - 68s - loss: 0.8516 - acc: 0.6492 - val_loss: 0.9294 - val_acc: 0.6139\n",
      "Epoch 5/15\n",
      "536580/536580 [==============================] - 69s - loss: 0.7674 - acc: 0.6843 - val_loss: 0.9761 - val_acc: 0.5952\n",
      "Epoch 6/15\n",
      "536580/536580 [==============================] - 71s - loss: 0.6901 - acc: 0.7181 - val_loss: 0.9666 - val_acc: 0.6093\n",
      "Epoch 7/15\n",
      "536580/536580 [==============================] - 71s - loss: 0.6028 - acc: 0.7575 - val_loss: 1.0559 - val_acc: 0.6000\n",
      "Epoch 8/15\n",
      "536580/536580 [==============================] - 68s - loss: 0.5054 - acc: 0.8004 - val_loss: 1.2340 - val_acc: 0.5967\n",
      "Epoch 9/15\n",
      "536580/536580 [==============================] - 71s - loss: 0.4046 - acc: 0.8439 - val_loss: 1.2675 - val_acc: 0.5961\n",
      "Epoch 10/15\n",
      "536576/536580 [============================>.] - ETA: 0s - loss: 0.3183 - acc: 0.8804\n",
      "Epoch 00009: reducing learning rate to 0.0004500000213738531.\n",
      "536580/536580 [==============================] - 71s - loss: 0.3183 - acc: 0.8804 - val_loss: 1.4483 - val_acc: 0.5944\n",
      "Epoch 11/15\n",
      "536580/536580 [==============================] - 70s - loss: 0.2225 - acc: 0.9204 - val_loss: 1.6318 - val_acc: 0.5924\n",
      "Epoch 12/15\n",
      " 67584/536580 [==>...........................] - ETA: 51s - loss: 0.1593 - acc: 0.9484Trying to load weights\n",
      "Weights was loaded successful\n",
      "learning stopped\n",
      "Trying to load weights\n",
      "Weights was loaded successful\n"
     ]
    }
   ],
   "source": [
    "try:\n",
    "    agent.pretrain(observations, labels, batch_size=batch_size, epochs=epochs, early_stopping=early_stopping)\n",
    "except KeyboardInterrupt:\n",
    "    agent.load_weights()\n",
    "    print(\"learning stopped\")\n",
    "# Load the best model\n",
    "agent.load_weights()"
   ]
  },
  {
   "cell_type": "markdown",
   "metadata": {},
   "source": [
    "## Pre-training evaluation"
   ]
  },
  {
   "cell_type": "code",
   "execution_count": 60,
   "metadata": {
    "scrolled": false
   },
   "outputs": [
    {
     "name": "stdout",
     "output_type": "stream",
     "text": [
      "\u001b[33mWARN: gym.spaces.Box autodetected dtype as <class 'numpy.float32'>. Please provide explicit dtype.\u001b[0m\n",
      "100/100\r"
     ]
    },
    {
     "data": {
      "image/png": "[encoded data removed]",
      "text/plain": [
       "<Figure size 1296x360 with 3 Axes>"
      ]
     },
     "metadata": {},
     "output_type": "display_data"
    },
    {
     "data": {
      "image/png": "[encoded data removed]",
      "text/plain": [
       "<Figure size 1296x720 with 1 Axes>"
      ]
     },
     "metadata": {},
     "output_type": "display_data"
    }
   ],
   "source": [
    "agent.evaluation_model = agent.pretraining_network\n",
    "info, rewards, lengths, elapsed = agent.evaluate_agent(labels, iterations=100)"
   ]
  },
  {
   "cell_type": "code",
   "execution_count": 63,
   "metadata": {
    "collapsed": true
   },
   "outputs": [],
   "source": [
    "agent.pretraining_network.save('./models/dqn/' + model_name + '_full_model.hdf5')"
   ]
  },
  {
   "cell_type": "markdown",
   "metadata": {},
   "source": [
    "## Reinforcement training"
   ]
  },
  {
   "cell_type": "code",
   "execution_count": 69,
   "metadata": {
    "collapsed": true
   },
   "outputs": [],
   "source": [
    "class TensorforceAgent(BaseAgent):\n",
    "    def act(self, obs, action_space):\n",
    "        pass\n",
    "    \n",
    "class TensorboardLogger(Callback):\n",
    "    \"\"\"Logging in tensorboard without tensorflow ops.\"\"\"\n",
    "    def __init__(self, log_dir):\n",
    "        # Some algorithms compute multiple episodes at once since they are multi-threaded.\n",
    "        # We therefore use a dictionary that is indexed by the episode to separate episodes\n",
    "        # from each other.\n",
    "        self.observations = {}\n",
    "        self.rewards = {}\n",
    "        self.actions = {}\n",
    "        self.metrics = {}\n",
    "        self.step = 0\n",
    "        \"\"\"Creates a summary writer logging to log_dir.\"\"\"\n",
    "        self.writer = tf.summary.FileWriter(log_dir)\n",
    "\n",
    "    def log_scalar(self, tag, value, step):\n",
    "        \"\"\"Log a scalar variable.\n",
    "        Parameter\n",
    "        ----------\n",
    "        tag : basestring\n",
    "            Name of the scalar\n",
    "        value\n",
    "        step : int\n",
    "            training iteration\n",
    "        \"\"\"\n",
    "        summary = tf.Summary(value=[tf.Summary.Value(tag=tag, simple_value=value)])\n",
    "        self.writer.add_summary(summary, step)\n",
    "\n",
    "    def on_train_begin(self, logs):\n",
    "        self.metrics_names = self.model.metrics_names\n",
    "\n",
    "    def on_episode_begin(self, episode, logs):\n",
    "        self.observations[episode] = []\n",
    "        self.rewards[episode] = []\n",
    "        self.actions[episode] = []\n",
    "        self.metrics[episode] = []\n",
    "\n",
    "    def on_episode_end(self, episode, logs):\n",
    "        episode_steps = len(self.observations[episode])\n",
    "        variables = {\n",
    "            'step': self.step,\n",
    "            'nb_steps': self.params['nb_steps'],\n",
    "            'episode_steps': episode_steps,\n",
    "            'episode_reward': np.sum(self.rewards[episode]),\n",
    "            'reward_mean': np.mean(self.rewards[episode]),\n",
    "            'reward_min': np.min(self.rewards[episode]),\n",
    "            'reward_max': np.max(self.rewards[episode]),\n",
    "            'action_mean': np.mean(self.actions[episode]),\n",
    "            'action_min': np.min(self.actions[episode]),\n",
    "            'action_max': np.max(self.actions[episode]),\n",
    "            'obs_mean': np.mean(self.observations[episode]),\n",
    "            'obs_min': np.min(self.observations[episode]),\n",
    "            'obs_max': np.max(self.observations[episode]),\n",
    "        }\n",
    "\n",
    "        # Format all metrics.\n",
    "        metrics = np.array(self.metrics[episode])\n",
    "        with warnings.catch_warnings():\n",
    "            warnings.filterwarnings('error')\n",
    "            for idx, name in enumerate(self.metrics_names):\n",
    "                try:\n",
    "                    value = np.nanmean(metrics[:, idx])\n",
    "                except Warning:\n",
    "                    value = -1\n",
    "                variables[name] = value\n",
    "        for key, value in variables.items():\n",
    "            self.log_scalar(key, value, episode + 1)\n",
    "\n",
    "        # Free up resources.\n",
    "        del self.observations[episode]\n",
    "        del self.rewards[episode]\n",
    "        del self.actions[episode]\n",
    "        del self.metrics[episode]\n",
    "\n",
    "    def on_step_end(self, step, logs):\n",
    "        episode = logs['episode']\n",
    "        self.observations[episode].append(logs['observation'])\n",
    "        self.rewards[episode].append(logs['reward'])\n",
    "        self.actions[episode].append(logs['action'])\n",
    "        self.metrics[episode].append(logs['metrics'])\n",
    "        self.step += 1"
   ]
  },
  {
   "cell_type": "markdown",
   "metadata": {},
   "source": [
    "Redefine environment wrapper for the reinforcement"
   ]
  },
  {
   "cell_type": "code",
   "execution_count": 70,
   "metadata": {
    "collapsed": true
   },
   "outputs": [],
   "source": [
    "class EnvWrapper(Env):\n",
    "    \"\"\"The abstract environment class that is used by all agents. This class has the exact\n",
    "        same API that OpenAI Gym uses so that integrating with it is trivial. In contrast to the\n",
    "        OpenAI Gym implementation, this class only defines the abstract methods without any actual\n",
    "        implementation.\n",
    "        To implement your own environment, you need to define the following methods:\n",
    "        - `step`\n",
    "        - `reset`\n",
    "        - `render`\n",
    "        - `close`\n",
    "        Refer to the [Gym documentation](https://gym.openai.com/docs/#environments).\n",
    "        \"\"\"\n",
    "    reward_range = (-1, 1)\n",
    "    action_space = None\n",
    "    observation_space = None\n",
    "\n",
    "    def __init__(self, gym, board_size):\n",
    "        self.gym = gym\n",
    "        self.action_space = gym.action_space\n",
    "        self.observation_space = gym.observation_space\n",
    "        self.reward_range = gym.reward_range\n",
    "        self.board_size = board_size\n",
    "#         self.observations_history = []\n",
    "#         self.step = 0\n",
    "        \n",
    "#     def make_observation(self, obs, i):\n",
    "#         if i == 0: # If it is a first observation\n",
    "#             return np.array([obs for _ in range(history_length)])\n",
    "#         elif i < 3: # If there are less than 3 observations in a history\n",
    "#             n_first = 3 - i\n",
    "#             return np.concatenate([np.array([self.observations_history[0] for _ in range(n_first)]), # Repeat the first observation\n",
    "#                                    np.array(self.observations_history[:i]).reshape(i, view_size, view_size, n_channels), # Add next observations\n",
    "#                                    obs.reshape(1, view_size, view_size, n_channels)], # Current observation\n",
    "#                                    axis=0)\n",
    "#         else:\n",
    "#             return np.concatenate([np.array(self.observations_history[i-history_length+1:i]).reshape(history_length-1, view_size, view_size, n_channels), # Add next observations\n",
    "#                                    obs.reshape(1, view_size, view_size, n_channels)], # Current observation\n",
    "#                                    axis=0)\n",
    "\n",
    "    def step(self, action):\n",
    "        \"\"\"Run one timestep of the environment's dynamics.\n",
    "        Accepts an action and returns a tuple (observation, reward, done, info).\n",
    "        # Arguments\n",
    "            action (object): An action provided by the environment.\n",
    "        # Returns\n",
    "            observation (object): Agent's observation of the current environment.\n",
    "            reward (float) : Amount of reward returned after previous action.\n",
    "            done (boolean): Whether the episode has ended, in which case further step() calls will return undefined results.\n",
    "            info (dict): Contains auxiliary diagnostic information (helpful for debugging, and sometimes learning).\n",
    "        \"\"\"\n",
    "        obs = self.gym.get_observations()\n",
    "        all_actions = self.gym.act(obs)\n",
    "        all_actions.insert(self.gym.training_agent, action)\n",
    "        state, reward, terminal, info = self.gym.step(all_actions)\n",
    "        agent_state = self.featurize(state[self.gym.training_agent])\n",
    "        \n",
    "#         agent_state_history = self.make_observation(agent_state, self.step)\n",
    "        agent_reward = reward[self.gym.training_agent]\n",
    "        \n",
    "#         self.step += 1\n",
    "        return agent_state, agent_reward, terminal, info\n",
    "\n",
    "    def reset(self):\n",
    "        \"\"\"\n",
    "        Resets the state of the environment and returns an initial observation.\n",
    "        # Returns\n",
    "            observation (object): The initial observation of the space. Initial reward is assumed to be 0.\n",
    "        \"\"\"\n",
    "        obs = self.gym.reset()\n",
    "#         self.step = 1\n",
    "        agent_obs = self.featurize(obs[self.gym.training_agent])\n",
    "#         self.observations_history = [agent_obs]\n",
    "        return agent_obs\n",
    "\n",
    "    def render(self, mode='human', close=False):\n",
    "        \"\"\"Renders the environment.\n",
    "        The set of supported modes varies per environment. (And some\n",
    "        environments do not support rendering at all.)\n",
    "        # Arguments\n",
    "            mode (str): The mode to render with.\n",
    "            close (bool): Close all open renderings.\n",
    "        \"\"\"\n",
    "        self.gym.render(mode=mode, close=close)\n",
    "\n",
    "    def close(self):\n",
    "        \"\"\"Override in your subclass to perform any necessary cleanup.\n",
    "        Environments will automatically close() themselves when\n",
    "        garbage collected or when the program exits.\n",
    "        \"\"\"\n",
    "        self.gym.close()\n",
    "\n",
    "    def seed(self, seed=None):\n",
    "        \"\"\"Sets the seed for this env's random number generator(s).\n",
    "        # Returns\n",
    "            Returns the list of seeds used in this env's random number generators\n",
    "        \"\"\"\n",
    "        raise self.gym.seed(seed)\n",
    "\n",
    "    def configure(self, *args, **kwargs):\n",
    "        \"\"\"Provides runtime configuration to the environment.\n",
    "        This configuration should consist of data that tells your\n",
    "        environment how to run (such as an address of a remote server,\n",
    "        or path to your ImageNet data). It should not affect the\n",
    "        semantics of the environment.\n",
    "        \"\"\"\n",
    "        raise NotImplementedError()\n",
    "\n",
    "    def featurize(self, obs):\n",
    "        return featurize(obs, center=True, crop=False)\n",
    "\n",
    "    def __del__(self):\n",
    "        self.close()\n",
    "\n",
    "    def __str__(self):\n",
    "        return '<{} instance>'.format(type(self).__name__)\n",
    "\n",
    "\n",
    "class CustomProcessor(Processor):\n",
    "    def process_state_batch(self, batch):\n",
    "        \"\"\"Processes an entire batch of states and returns it.\n",
    "        # Arguments\n",
    "            batch (list): List of states\n",
    "        # Returns\n",
    "            Processed list of states\n",
    "        \"\"\"\n",
    "#         batch = np.squeeze(batch, axis=1)\n",
    "        batch = np.array([np.concatenate(obs, axis=-1) for obs in batch])\n",
    "        return batch\n",
    "\n",
    "    def process_info(self, info):\n",
    "        \"\"\"Processes the info as obtained from the environment for use in an agent and\n",
    "        returns it.\n",
    "        \"\"\"\n",
    "        info['result'] = info['result'].value\n",
    "        return info"
   ]
  },
  {
   "cell_type": "markdown",
   "metadata": {},
   "source": [
    "### Train the model"
   ]
  },
  {
   "cell_type": "code",
   "execution_count": 116,
   "metadata": {},
   "outputs": [
    {
     "name": "stdout",
     "output_type": "stream",
     "text": [
      "Trying to load weights\n",
      "Weights were loaded successful\n"
     ]
    }
   ],
   "source": [
    "agent.load_weights()"
   ]
  },
  {
   "cell_type": "code",
   "execution_count": 72,
   "metadata": {
    "collapsed": true
   },
   "outputs": [],
   "source": [
    "def get_env(agent_id=0):\n",
    "    # Instantiate the environment\n",
    "    config = ffa_v0_env()\n",
    "    env = Pomme(**config[\"env_kwargs\"])\n",
    "\n",
    "    np.random.seed(0)\n",
    "    env.seed(0)\n",
    "    # Add 3 random agents and one Tensorforce\n",
    "    agents = [TensorforceAgent(config[\"agent\"](agent_id, config[\"game_type\"])) if i == agent_id else SimpleAgent(config[\"agent\"](i, config[\"game_type\"])) for i in range(4)]\n",
    "    env.set_agents(agents)\n",
    "    env.set_training_agent(agents[agent_id].agent_id)\n",
    "    env.set_init_game_state(None)\n",
    "    \n",
    "    return env"
   ]
  },
  {
   "cell_type": "code",
   "execution_count": 110,
   "metadata": {
    "collapsed": true
   },
   "outputs": [],
   "source": [
    "def get_dqn(model,\n",
    "            log_interval=100000,\n",
    "            model_name='deep_mind_dqn_rl_2d_1',\n",
    "            file_log_path='./logs/dqn/rl_2d/log.txt',\n",
    "            tensorboard_path='./logs/dqn/rl_2d/'):\n",
    "    \n",
    "    model_path = './models/dqn/' + model_name + '.h5'\n",
    "    file_logger = FileLogger(file_log_path, interval=log_interval)\n",
    "    checkpoint = ModelIntervalCheckpoint(model_path, interval=log_interval)\n",
    "    tensorboard = TensorboardLogger(tensorboard_path)\n",
    "    callbacks=[file_logger, checkpoint, tensorboard]\n",
    "\n",
    "    # We use 4 last observations\n",
    "    memory=SequentialMemory(limit=500000, window_length=history_length)\n",
    "\n",
    "    # Select a policy. We use eps-greedy action selection, which means that a random action is selected\n",
    "    # with probability eps. We anneal eps from 1.0 to 0.1 over the course of 1M steps. This is done so that\n",
    "    # the agent initially explores the environment (high eps) and then gradually sticks to what it knows\n",
    "    # (low eps). We also set a dedicated eps value that is used during testing. Note that we set it to 0.05\n",
    "    # so that the agent still performs some random actions. This ensures that the agent cannot get stuck.\n",
    "    policy = LinearAnnealedPolicy(EpsGreedyQPolicy(), attr='eps', value_max=1., value_min=.1, value_test=.05,\n",
    "                                  nb_steps=1000000)\n",
    "    #policy=BoltzmannQPolicy()\n",
    "\n",
    "    # enable the dueling network\n",
    "    # you can specify the dueling_type to one of {'avg','max','naive'}\n",
    "    dqn = DQNAgent(model=model, \n",
    "                   nb_actions=env.action_space.n, \n",
    "                   memory=memory, \n",
    "                   policy=policy,\n",
    "                   processor=CustomProcessor(),\n",
    "                   nb_steps_warmup=512,\n",
    "                   enable_dueling_network=True, \n",
    "                   dueling_type='avg', \n",
    "                   target_model_update=5e2,  \n",
    "                   batch_size=32)\n",
    "\n",
    "    dqn.compile(Adam(lr=5e-4), metrics=['mae'])\n",
    "    \n",
    "    return dqn, callbacks"
   ]
  },
  {
   "cell_type": "code",
   "execution_count": 96,
   "metadata": {
    "collapsed": true
   },
   "outputs": [],
   "source": [
    "dqn, callbacks = get_dqn(agent.rl_network)"
   ]
  },
  {
   "cell_type": "code",
   "execution_count": 97,
   "metadata": {},
   "outputs": [
    {
     "name": "stdout",
     "output_type": "stream",
     "text": [
      "\u001b[33mWARN: gym.spaces.Box autodetected dtype as <class 'numpy.float32'>. Please provide explicit dtype.\u001b[0m\n"
     ]
    }
   ],
   "source": [
    "env_wrapper = EnvWrapper(get_env(agent_id=0), BOARD_SIZE)"
   ]
  },
  {
   "cell_type": "code",
   "execution_count": null,
   "metadata": {
    "scrolled": true
   },
   "outputs": [],
   "source": [
    "history = dqn.fit(env_wrapper, nb_steps=5e6, visualize=False, verbose=2,\n",
    "                  nb_max_episode_steps=env._max_steps,\n",
    "                  callbacks=callbacks)"
   ]
  },
  {
   "cell_type": "code",
   "execution_count": 113,
   "metadata": {
    "collapsed": true
   },
   "outputs": [],
   "source": [
    "dqn.model.save('./models/dqn/deep_mind_dqn_rl_2d_8_1M_full_model.hdf5')"
   ]
  },
  {
   "cell_type": "markdown",
   "metadata": {},
   "source": [
    "## Reward shaping"
   ]
  },
  {
   "cell_type": "markdown",
   "metadata": {},
   "source": [
    "We will continue the training with the reward shaping"
   ]
  },
  {
   "cell_type": "code",
   "execution_count": 117,
   "metadata": {
    "collapsed": true
   },
   "outputs": [],
   "source": [
    "def isBetween(a, b, c):\n",
    "    crossproduct = (c.y - a.y) * (b.x - a.x) - (c.x - a.x) * (b.y - a.y)\n",
    "    epsilon = 0.0001\n",
    "    # compare versus epsilon for floating point values, or != 0 if using integers\n",
    "    if abs(crossproduct) > epsilon:\n",
    "        return False\n",
    "\n",
    "    dotproduct = (c.x - a.x) * (b.x - a.x) + (c.y - a.y)*(b.y - a.y)\n",
    "    if dotproduct < 0:\n",
    "        return False\n",
    "\n",
    "    squaredlengthba = (b.x - a.x)*(b.x - a.x) + (b.y - a.y)*(b.y - a.y)\n",
    "    if dotproduct > squaredlengthba:\n",
    "        return False\n",
    "\n",
    "    return True\n",
    "\n",
    "class Point:\n",
    "    def __init__(self, x, y):\n",
    "        self.x = x\n",
    "        self.y = y\n",
    "    \n",
    "    def scale(self, s):\n",
    "        self.x *= s\n",
    "        self.y *= s\n",
    "        return self\n",
    "# Test\n",
    "# A = Point(0,0)\n",
    "# B = Point(5,5)\n",
    "# C = Point(2,2.0001)\n",
    "\n",
    "# isBetween(A,B,C)\n",
    "\n",
    "class RewardShaping:\n",
    "    \"\"\" It takes care of everything just add in the environment loop and make\n",
    "        sure that you reset it either by creating a new calling reset at the end\n",
    "        of each episode otherwise last observation from prev episode is used which\n",
    "        can raise some errors!\n",
    "    \"\"\"\n",
    "    def __init__(self, obs_prev = None, action_prev = None):\n",
    "        self.reset(obs_prev, action_prev)\n",
    "        \n",
    "    def reset(self, obs_prev = None, action_prev = None):\n",
    "        self.obs_prev = obs_prev\n",
    "        self.action_prev = action_prev\n",
    "        # for debug purpose\n",
    "        self.obs_cur = None\n",
    "        self.action_cur = None\n",
    "        self.conseqActionCounter = 0\n",
    "        self.dist2bombs_prev = 0\n",
    "        self.notUsingAmmoCount = 0\n",
    "        # catch enemy\n",
    "        self.closestEnemyIdPrev = -1\n",
    "        self.closestEnemyDistPrev = float(\"inf\")\n",
    "        \n",
    "    def shape_it(self, obs_now, action_now, reward):\n",
    "        \"\"\" Shape the reward based on the current and previous observation\n",
    "            input: current observation, current action, and received reward\n",
    "            output: the shaped reward, sum of each criteria for the final reward\n",
    "        \"\"\"\n",
    "        self.obs_cur = obs_now\n",
    "        self.action_cur = action_now\n",
    "        if reward == -1 or reward == 1: # nothing to do with won/lost agent reward\n",
    "            return reward, None\n",
    "        #\n",
    "        if self.obs_prev is None:\n",
    "            #print(\"first iteration\")\n",
    "            self.obs_prev = obs_now\n",
    "            self.action_prev = action_now\n",
    "            return reward, None\n",
    "        #\n",
    "        reward_tmp = {}\n",
    "        # REWARD VALUES (NB: some of them used as factors not directly!)\n",
    "        MOBILITY_RWRD = 0.1\n",
    "#         CONSEQ_ACT_RWRD = -0.5\n",
    "        CONSEQ_ACT_RWRD = -0.0001\n",
    "        \n",
    "        PLNT_BOMB_NEAR_WOOD_RWRD = 0.05\n",
    "        PLNT_BOMB_NEAR_ENEM_RWRD = 0.1\n",
    "#         ON_FLAMES_RWRD = -0.8\n",
    "        ON_FLAMES_RWRD = -0.0001\n",
    "        \n",
    "        INCRS_DIST_WITH_BOMBS_RWRD = 0.05\n",
    "        PICKED_POWER_RWRD = 0.1\n",
    "#         CATCH_ENEMY_RWRD = 0.1\n",
    "        CATCH_ENEMY_RWRD = 0.001\n",
    "        #\n",
    "        # movement: + for mobility\n",
    "        pose_t = np.array(obs_now['position']) # t\n",
    "        pose_tm1 = np.array(self.obs_prev['position']) # t-1\n",
    "        moveDist = np.linalg.norm(pose_t-pose_tm1)\n",
    "        reward_tmp['mobility'] = MOBILITY_RWRD if moveDist > 0 else 0 # give reward\n",
    "        #\n",
    "        # consequative action: - for conseq actions\n",
    "        if self.action_prev == action_now:\n",
    "            self.conseqActionCounter += 1\n",
    "        else:\n",
    "            self.conseqActionCounter = 0\n",
    "        if self.conseqActionCounter > 11:\n",
    "            reward_tmp['conseqact'] = CONSEQ_ACT_RWRD\n",
    "        # keeping ammo: - for not using its ammo\n",
    "        if obs_now['ammo'] == self.obs_prev['ammo']:\n",
    "            self.notUsingAmmoCount += 1\n",
    "        else:\n",
    "            self.notUsingAmmoCount = 0\n",
    "        if self.notUsingAmmoCount > 11:\n",
    "            reward_tmp['ammousage'] = CONSEQ_ACT_RWRD\n",
    "        #\n",
    "        # plant a bomb: + based on value of the bombing position\n",
    "        bombs_pose = np.argwhere(obs_now['bomb_life'] != 0)\n",
    "        if obs_now['ammo'] < self.obs_prev['ammo']:\n",
    "            surroundings = [(-1,1),(0,1),(1,1),(1,0),(1,-1),(0,-1),(-1,-1),(-1,0)]\n",
    "            mybomb_pose = self.obs_prev['position'] # equal to agent previous position\n",
    "            # validate if the bomb actually exists there\n",
    "            found_the_bomb = False\n",
    "            for bp in bombs_pose:\n",
    "                if np.equal(bp, mybomb_pose).all():\n",
    "                    found_the_bomb = True\n",
    "                    break\n",
    "            assert found_the_bomb # end of validation\n",
    "            nr_woods = 0\n",
    "            nr_enemies = 0\n",
    "            for p in surroundings:\n",
    "                cell_pose = (mybomb_pose[0] + p[0], mybomb_pose[1] + p[1])\n",
    "                if cell_pose[0] > 10 or cell_pose[1] > 10: # bigger than board size\n",
    "                    continue\n",
    "                #print(obs_now['board'][cell_pose])\n",
    "                nr_woods += obs_now['board'][cell_pose] == Item.Wood.value\n",
    "                nr_enemies += obs_now['board'][cell_pose] in [e.value for e in obs_now['enemies']]\n",
    "            #print(\"nr woods: \", nr_woods)\n",
    "            #print(\"nr enemies: \", nr_enemies)\n",
    "            assert nr_woods + nr_enemies < 10\n",
    "            reward_tmp['plantbomb'] = \\\n",
    "                PLNT_BOMB_NEAR_WOOD_RWRD * nr_woods \\\n",
    "                + PLNT_BOMB_NEAR_ENEM_RWRD * nr_enemies # give reward\n",
    "        #\n",
    "        # on Flames: - if agent on any blast direction \n",
    "        for bp in bombs_pose:\n",
    "            def rot_deg90cw(point):\n",
    "                new_point = [0, 0]\n",
    "                new_point[0] = point[1]\n",
    "                new_point[1] = -point[0]\n",
    "                return new_point\n",
    "            \n",
    "            #print(type(bp))\n",
    "            factor = 1/obs_now['bomb_life'][tuple(bp)] # inverse of time left\n",
    "            blast_strength = obs_now['bomb_blast_strength'][tuple(bp)]\n",
    "\n",
    "            # blast directions\n",
    "            blast_N = Point(0,1).scale(blast_strength)\n",
    "            blast_S = Point(0,-1).scale(blast_strength)\n",
    "            blast_W = Point(-1,0).scale(blast_strength)\n",
    "            blast_E = Point(1,0).scale(blast_strength)\n",
    "\n",
    "            # agent on blast direction?\n",
    "            bpPose = rot_deg90cw(bp)\n",
    "            myPose = rot_deg90cw(obs_now['position'])\n",
    "            myPose = Point(myPose[0]-bpPose[0], myPose[1]-bpPose[1]) # my pose relative to the bomb!\n",
    "            onBlastDirect = isBetween(blast_N, blast_S, myPose) or \\\n",
    "                            isBetween(blast_W, blast_E, myPose)\n",
    "            if onBlastDirect:\n",
    "                #print(\"time: \", obs_now['bomb_life'][tuple(bp)])\n",
    "                #print(\"on blast: \", factor)\n",
    "                reward_tmp['onflame'] = ON_FLAMES_RWRD * factor\n",
    "        #\n",
    "        # Bombs distance: + if total distance from bombs increased\n",
    "        dist2bombs = 0\n",
    "        for bp in bombs_pose:\n",
    "            dist2bombs += np.linalg.norm(obs_now['position']-bp)\n",
    "        dist_delta = dist2bombs - self.dist2bombs_prev\n",
    "        self.dist2bombs_prev = dist2bombs\n",
    "        #print(dist_delta)\n",
    "        # TODO: this may not be good if the delta oscillates all the time\n",
    "        if (dist_delta > 0 and moveDist):\n",
    "            reward_tmp['bombsdistance'] = dist_delta * INCRS_DIST_WITH_BOMBS_RWRD\n",
    "        # picked power: + for every picked power\n",
    "        potentialPower = self.obs_prev['board'][obs_now['position']]\n",
    "        picked_power = (potentialPower == Item.ExtraBomb.value) or\\\n",
    "                       (potentialPower == Item.IncrRange.value) or\\\n",
    "                       (potentialPower == Item.Kick.value)\n",
    "        if picked_power:\n",
    "            reward_tmp['pickedpower'] = PICKED_POWER_RWRD\n",
    "        \n",
    "        # catch enemy: + if closing distance with the nearest enemy\n",
    "        def closestEnemy():\n",
    "            myPose = obs_now['position']\n",
    "            closestEnemyId = -1\n",
    "            closestEnemyDist = float(\"inf\")\n",
    "            for e in obs_now['enemies']:\n",
    "                enemyPose = np.argwhere(obs_now['board'] == e.value)\n",
    "                if len(enemyPose) == 0:\n",
    "                    continue\n",
    "                dist2Enemy = np.linalg.norm(myPose-enemyPose)\n",
    "                if dist2Enemy <= closestEnemyDist:\n",
    "                    closestEnemyId = e.value\n",
    "                    closestEnemyDist = dist2Enemy\n",
    "            return closestEnemyId, closestEnemyDist\n",
    "\n",
    "        closestEnemyId_cur, closestEnemyDist_cur = closestEnemy()\n",
    "        if self.closestEnemyIdPrev != closestEnemyId_cur:\n",
    "            self.closestEnemyIdPrev = closestEnemyId_cur\n",
    "            self.closestEnemyDistPrev = closestEnemyDist_cur\n",
    "        else:\n",
    "            CATCHING_TRHE = 4 # consider catching when close at most this much to the enemy\n",
    "            if closestEnemyDist_cur < self.closestEnemyDistPrev and\\\n",
    "                closestEnemyDist_cur < CATCHING_TRHE:\n",
    "                reward_tmp['catchenemy'] = CATCH_ENEMY_RWRD\n",
    "                self.closestEnemyDistPrev = closestEnemyDist_cur\n",
    "            if closestEnemyDist_cur <= 1.1: # got that close\n",
    "                self.closestEnemyDistPrev = float(\"inf\")\n",
    "        #print(\"catching: \", closestEnemyIdPrev)\n",
    "        \n",
    "        # update previous obs and action\n",
    "        self.obs_prev = obs_now\n",
    "        self.action_prev = action_now\n",
    "        \n",
    "        # just a notice :\n",
    "        for k,v in reward_tmp.items():\n",
    "            if v >= 1.0 or v <= -1.0:\n",
    "                print(\"reward for criteria '%s' is %f\" % (k, v))\n",
    "        \n",
    "        # sum up rewards\n",
    "        reward_shaped = reward + sum(reward_tmp.values())\n",
    "        return np.clip(reward_shaped, -0.9, 0.9), reward_tmp"
   ]
  },
  {
   "cell_type": "code",
   "execution_count": 118,
   "metadata": {
    "collapsed": true
   },
   "outputs": [],
   "source": [
    "class EnvWrapperRS(EnvWrapper):\n",
    "    def __init__(self, gym, board_size):\n",
    "        super(EnvWrapperRS, self).__init__(gym, board_size)\n",
    "        self.rewardShaping = RewardShaping()\n",
    "    \n",
    "    def step(self, action):\n",
    "        \"\"\"Run one timestep of the environment's dynamics.\n",
    "        Accepts an action and returns a tuple (observation, reward, done, info).\n",
    "        # Arguments\n",
    "            action (object): An action provided by the environment.\n",
    "        # Returns\n",
    "            observation (object): Agent's observation of the current environment.\n",
    "            reward (float) : Amount of reward returned after previous action.\n",
    "            done (boolean): Whether the episode has ended, in which case further step() calls will return undefined results.\n",
    "            info (dict): Contains auxiliary diagnostic information (helpful for debugging, and sometimes learning).\n",
    "        \"\"\"\n",
    "        obs = self.gym.get_observations()\n",
    "        all_actions = self.gym.act(obs)\n",
    "        all_actions.insert(self.gym.training_agent, action)\n",
    "        state, reward, terminal, info = self.gym.step(all_actions)\n",
    "        \n",
    "        action = all_actions[self.gym.training_agent]\n",
    "        agent_state = self.featurize(state[self.gym.training_agent])\n",
    "        agent_reward = reward[self.gym.training_agent]\n",
    "        \n",
    "        agent_reward, reward_info = self.rewardShaping.shape_it(obs[self.gym.training_agent], \n",
    "                                                   action, agent_reward)\n",
    "        \n",
    "        return agent_state, agent_reward, terminal, info\n",
    "\n",
    "    def reset(self):\n",
    "        \"\"\"\n",
    "        Resets the state of the environment and returns an initial observation.\n",
    "        # Returns\n",
    "            observation (object): The initial observation of the space. Initial reward is assumed to be 0.\n",
    "        \"\"\"\n",
    "        obs = self.gym.reset()\n",
    "        self.rewardShaping.reset()\n",
    "        agent_obs = self.featurize(obs[self.gym.training_agent])\n",
    "        return agent_obs"
   ]
  },
  {
   "cell_type": "markdown",
   "metadata": {},
   "source": [
    "Train"
   ]
  },
  {
   "cell_type": "code",
   "execution_count": 119,
   "metadata": {},
   "outputs": [
    {
     "name": "stdout",
     "output_type": "stream",
     "text": [
      "\u001b[33mWARN: gym.spaces.Box autodetected dtype as <class 'numpy.float32'>. Please provide explicit dtype.\u001b[0m\n"
     ]
    }
   ],
   "source": [
    "env_wrapper = EnvWrapperRS(get_env(agent_id=0), BOARD_SIZE)"
   ]
  },
  {
   "cell_type": "code",
   "execution_count": 120,
   "metadata": {
    "collapsed": true
   },
   "outputs": [],
   "source": [
    "dqn_rs, callbacks = get_dqn(agent.rl_network,\n",
    "                 model_name='deep_mind_dqn_rl_2d_rs2_1',\n",
    "                 file_log_path='./logs/dqn/rl_2d_rs2/log.txt',\n",
    "                 tensorboard_path='./logs/dqn/rl_2d_rs2/')"
   ]
  },
  {
   "cell_type": "code",
   "execution_count": 112,
   "metadata": {
    "collapsed": true
   },
   "outputs": [],
   "source": [
    "# We may want to continue the previous training\n",
    "# dqn_rs.model.load_weights('./models/dqn/deep_mind_dqn_rl_2d_8_1M.h5')"
   ]
  },
  {
   "cell_type": "code",
   "execution_count": null,
   "metadata": {},
   "outputs": [],
   "source": [
    "history = dqn_rs.fit(env_wrapper, nb_steps=1e6, visualize=False, verbose=2,\n",
    "                  nb_max_episode_steps=env._max_steps,\n",
    "                  callbacks=callbacks)"
   ]
  },
  {
   "cell_type": "code",
   "execution_count": 122,
   "metadata": {
    "collapsed": true
   },
   "outputs": [],
   "source": [
    "dqn_rs.model.save('./models/dqn/deep_mind_dqn_rl_2d_700k_rs_full_model.hdf5')"
   ]
  }
 ],
 "metadata": {
  "kernelspec": {
   "display_name": "Python 3",
   "language": "python",
   "name": "python3"
  },
  "language_info": {
   "codemirror_mode": {
    "name": "ipython",
    "version": 3
   },
   "file_extension": ".py",
   "mimetype": "text/x-python",
   "name": "python",
   "nbconvert_exporter": "python",
   "pygments_lexer": "ipython3",
   "version": "3.5.5"
  }
 },
 "nbformat": 4,
 "nbformat_minor": 2
}
