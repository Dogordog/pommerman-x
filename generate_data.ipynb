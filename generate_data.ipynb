{
 "cells": [
  {
   "cell_type": "code",
   "execution_count": 6,
   "metadata": {
    "collapsed": true
   },
   "outputs": [],
   "source": [
    "import os\n",
    "import sys\n",
    "import numpy as np\n",
    "\n",
    "os.environ['KERAS_BACKEND'] = 'tensorflow'\n",
    "os.environ[\"CUDA_VISIBLE_DEVICES\"]=\"7\"\n",
    "\n",
    "sys.path.append('/path/to/pommerman/playground/')\n",
    "sys.path.append('/path/to/evaluation_utils.py/')"
   ]
  },
  {
   "cell_type": "code",
   "execution_count": 3,
   "metadata": {
    "collapsed": true
   },
   "outputs": [],
   "source": [
    "from copy import deepcopy\n",
    "from pommerman.agents import SimpleAgent\n",
    "from pommerman.configs import ffa_competition_env\n",
    "from pommerman.constants import BOARD_SIZE\n",
    "from pommerman.envs.v0 import Pomme\n",
    "from tqdm import tqdm_notebook as tqdm\n",
    "from matplotlib import pyplot as plt"
   ]
  },
  {
   "cell_type": "code",
   "execution_count": 79,
   "metadata": {
    "collapsed": true
   },
   "outputs": [],
   "source": [
    "initial_rollouts   = 600\n",
    "min_episode_length = 35 \n",
    "\n",
    "train_data_path    = './dataset/'\n",
    "train_data_obs     = os.path.join(train_data_path, 'obs.npy')\n",
    "train_data_labels  = os.path.join(train_data_path, 'labels.npy')\n",
    "train_data_reward  = os.path.join(train_data_path, 'reward.npy')\n",
    "train_data_obs_map = os.path.join(train_data_path, 'obs_map.npy')\n",
    "train_data_obs_map_history = os.path.join(train_data_path, 'obs_map_history.npy')\n",
    "\n",
    "if not os.path.isdir(train_data_path):\n",
    "    os.makedirs(train_data_path)"
   ]
  },
  {
   "cell_type": "code",
   "execution_count": 5,
   "metadata": {
    "collapsed": true
   },
   "outputs": [],
   "source": [
    "class Episode:   \n",
    "    def __init__(self, agent_id, episode_id):\n",
    "        self.agent_id = agent_id\n",
    "        self.episode_id = episode_id\n",
    "        self.observations = []\n",
    "        self.actions = []\n",
    "        self.reward = []\n",
    "        self.done = False        \n",
    "        \n",
    "    def record(self, obs, action, reward):\n",
    "        self.observations.append(deepcopy(obs))\n",
    "        self.actions.append(deepcopy(action))\n",
    "        # Agent not win or not die\n",
    "        if reward != 0:\n",
    "            self.done = True\n",
    "            self.reward = [reward] * self.get_num_steps()\n",
    "        \n",
    "    def get_num_steps(self):\n",
    "        return len(self.observations)        "
   ]
  },
  {
   "cell_type": "code",
   "execution_count": 7,
   "metadata": {
    "collapsed": true
   },
   "outputs": [],
   "source": [
    "# Environment wrapper\n",
    "class Stimulator:\n",
    "    def __init__(self, env):\n",
    "        self.env = env\n",
    "        self.episodes = []\n",
    "        \n",
    "    def record(self, agents, obs, actions, rewards):        \n",
    "        for agent_id in range(len(agents)): \n",
    "            agent = agents[agent_id]\n",
    "            # If an agent is dead (or win) we should not record a history\n",
    "            if not agent.done:    \n",
    "                agent.record(obs[agent_id], actions[agent_id], rewards[agent_id])\n",
    "\n",
    "    def stimulate(self, num_rollouts):\n",
    "        for cur_episode in tqdm(range(num_rollouts)):\n",
    "            # Create a history for each agent\n",
    "            agents = []                \n",
    "            for agent_id in range(4):\n",
    "                agents.append(Episode(agent_id, cur_episode))            \n",
    "            \n",
    "            done = False     \n",
    "            # Obtain initial observations\n",
    "            obs = self.env.reset()\n",
    "            try:\n",
    "                while not done:\n",
    "                    # FUCK self.env.act change \"POSITION\"!!!!\n",
    "                    obs_to_save = deepcopy(obs)                    \n",
    "                    # Produce actions\n",
    "                    actions = self.env.act(obs)\n",
    "                    # Make an episode step. Save an observations as new_obs, because we want to record previous one\n",
    "                    obs, rewards, done, _ = self.env.step(actions)\n",
    "                    # Record observations and actions\n",
    "                    self.record(agents, obs_to_save, actions, rewards)                    \n",
    "            except:\n",
    "                print(\"Error occurs\")\n",
    "                continue            \n",
    "            self.episodes.extend(agents)\n",
    "    \n",
    "    def get_episodes(self):\n",
    "        return deepcopy(self.episodes)"
   ]
  },
  {
   "cell_type": "code",
   "execution_count": 8,
   "metadata": {},
   "outputs": [
    {
     "name": "stdout",
     "output_type": "stream",
     "text": [
      "\u001b[33mWARN: gym.spaces.Box autodetected dtype as <class 'numpy.float32'>. Please provide explicit dtype.\u001b[0m\n"
     ]
    }
   ],
   "source": [
    "# Instantiate the environment\n",
    "config = ffa_competition_env()\n",
    "env = Pomme(**config[\"env_kwargs\"])\n",
    "\n",
    "# Random seed\n",
    "env.seed(0)\n",
    "\n",
    "# Add agents\n",
    "agents = [SimpleAgent(config[\"agent\"](agent_id, config[\"game_type\"])) for agent_id in range(4)]\n",
    "env.set_agents(agents)\n",
    "env.set_init_game_state(None)"
   ]
  },
  {
   "cell_type": "code",
   "execution_count": 9,
   "metadata": {
    "scrolled": true
   },
   "outputs": [
    {
     "data": {
      "application/vnd.jupyter.widget-view+json": {
       "model_id": "e8433f1fd7584f658b5ab4ef96702ddf",
       "version_major": 2,
       "version_minor": 0
      },
      "text/plain": [
       "HBox(children=(IntProgress(value=0, max=600), HTML(value='')))"
      ]
     },
     "metadata": {},
     "output_type": "display_data"
    },
    {
     "name": "stdout",
     "output_type": "stream",
     "text": [
      "\n"
     ]
    }
   ],
   "source": [
    "# Generate training data\n",
    "stimulator = Stimulator(env)\n",
    "stimulator.stimulate(initial_rollouts)"
   ]
  },
  {
   "cell_type": "code",
   "execution_count": 12,
   "metadata": {},
   "outputs": [
    {
     "data": {
      "application/vnd.jupyter.widget-view+json": {
       "model_id": "debbf9199d6d454cbecb529b4f01d422",
       "version_major": 2,
       "version_minor": 0
      },
      "text/plain": [
       "HBox(children=(IntProgress(value=0, max=2400), HTML(value='')))"
      ]
     },
     "metadata": {},
     "output_type": "display_data"
    },
    {
     "name": "stdout",
     "output_type": "stream",
     "text": [
      "\n"
     ]
    }
   ],
   "source": [
    "for episode in tqdm(stimulator.episodes):\n",
    "    for observation in episode.observations:\n",
    "        board = observation['board']\n",
    "        pos   = observation['position']    \n",
    "        if board[pos[0], pos[1]] != (episode.agent_id + 10):\n",
    "            print(\"ERROR\")"
   ]
  },
  {
   "cell_type": "markdown",
   "metadata": {},
   "source": [
    "## Win/Lose in corners"
   ]
  },
  {
   "cell_type": "code",
   "execution_count": 16,
   "metadata": {},
   "outputs": [
    {
     "data": {
      "image/png": "[encoded data removed]",
      "text/plain": [
       "<Figure size 432x288 with 1 Axes>"
      ]
     },
     "metadata": {},
     "output_type": "display_data"
    }
   ],
   "source": [
    "wins = []\n",
    "loses = []\n",
    "\n",
    "for episode in stimulator.episodes:\n",
    "    if episode.reward[-1] == -1:\n",
    "        loses.append(episode.agent_id)\n",
    "    elif episode.reward[-1] == 1:\n",
    "        wins.append(episode.agent_id)\n",
    "    else:\n",
    "        print(\"FUCK\")\n",
    "\n",
    "plt.hist(loses, label='loses')\n",
    "plt.hist(wins, label='wins')\n",
    "plt.xticks(np.arange(4))\n",
    "plt.legend()\n",
    "plt.show()"
   ]
  },
  {
   "cell_type": "code",
   "execution_count": 17,
   "metadata": {},
   "outputs": [
    {
     "data": {
      "text/plain": [
       "array([452, 496, 476, 519])"
      ]
     },
     "execution_count": 17,
     "metadata": {},
     "output_type": "execute_result"
    }
   ],
   "source": [
    "np.bincount(loses)"
   ]
  },
  {
   "cell_type": "markdown",
   "metadata": {},
   "source": [
    "## Episode length"
   ]
  },
  {
   "cell_type": "code",
   "execution_count": 19,
   "metadata": {},
   "outputs": [
    {
     "data": {
      "image/png": "[encoded data removed]",
      "text/plain": [
       "<Figure size 1224x288 with 1 Axes>"
      ]
     },
     "metadata": {},
     "output_type": "display_data"
    }
   ],
   "source": [
    "episode_length = [episode.get_num_steps() for episode in stimulator.episodes]\n",
    "    \n",
    "plt.figure(figsize=(17,4))\n",
    "plt.bar(range(0, len(episode_length)), episode_length)\n",
    "plt.plot([0, len(episode_length)], [np.mean(episode_length), np.mean(episode_length)], 'r')\n",
    "plt.legend(['mean', 'episode length'])\n",
    "plt.show()"
   ]
  },
  {
   "cell_type": "code",
   "execution_count": 22,
   "metadata": {},
   "outputs": [
    {
     "data": {
      "text/plain": [
       "(10, 801, 151)"
      ]
     },
     "execution_count": 22,
     "metadata": {},
     "output_type": "execute_result"
    }
   ],
   "source": [
    "np.min(episode_length), np.max(episode_length), np.sum(np.array(episode_length) < min_episode_length)"
   ]
  },
  {
   "cell_type": "markdown",
   "metadata": {},
   "source": [
    "## Rewards"
   ]
  },
  {
   "cell_type": "code",
   "execution_count": 23,
   "metadata": {},
   "outputs": [
    {
     "data": {
      "image/png": "[encoded data removed]",
      "text/plain": [
       "<Figure size 1224x288 with 3 Axes>"
      ]
     },
     "metadata": {},
     "output_type": "display_data"
    }
   ],
   "source": [
    "nr_wins = [0] * 4\n",
    "nr_loose = [0] * 4\n",
    "nr_tie = [0] * 4\n",
    "average_score = [[], [], [], []]\n",
    "\n",
    "for episode in stimulator.episodes:\n",
    "    if episode.reward[-1] == 1:\n",
    "        nr_wins[episode.agent_id] += 1\n",
    "    else:\n",
    "        nr_loose[episode.agent_id] += 1\n",
    "    average_score[episode.agent_id].append(episode.reward[-1])\n",
    "average_score[0] = np.mean(average_score[0])\n",
    "average_score[1] = np.mean(average_score[1])\n",
    "average_score[2] = np.mean(average_score[2])\n",
    "average_score[3] = np.mean(average_score[3])\n",
    "\n",
    "plt.figure(figsize=(17,4))\n",
    "plt.subplot(141)\n",
    "plt.bar(range(0,4), nr_wins)\n",
    "plt.title('nr_wins')\n",
    "plt.subplot(142)\n",
    "plt.bar(range(0,4), nr_loose)\n",
    "plt.title('nr_loose')\n",
    "plt.subplot(143)\n",
    "plt.bar(range(0,4), average_score)\n",
    "plt.title('average_score')\n",
    "plt.show()"
   ]
  },
  {
   "cell_type": "markdown",
   "metadata": {},
   "source": [
    "## Consequtive actions"
   ]
  },
  {
   "cell_type": "code",
   "execution_count": 24,
   "metadata": {
    "collapsed": true
   },
   "outputs": [],
   "source": [
    "actions_length = []\n",
    "for episode in stimulator.episodes:\n",
    "    current_action = episode.actions[0]\n",
    "    action_length = 0\n",
    "    for action in episode.actions:\n",
    "        if current_action != action:\n",
    "            actions_length.append(action_length)            \n",
    "            current_action = action\n",
    "            action_length = 0\n",
    "        action_length += 1"
   ]
  },
  {
   "cell_type": "code",
   "execution_count": 25,
   "metadata": {},
   "outputs": [
    {
     "data": {
      "text/plain": [
       "(1.6890224514546033, 1.0, 515)"
      ]
     },
     "execution_count": 25,
     "metadata": {},
     "output_type": "execute_result"
    }
   ],
   "source": [
    "np.mean(actions_length), np.median(actions_length), np.max(actions_length)"
   ]
  },
  {
   "cell_type": "code",
   "execution_count": 26,
   "metadata": {},
   "outputs": [
    {
     "data": {
      "image/png": "[encoded data removed]",
      "text/plain": [
       "<Figure size 1224x720 with 1 Axes>"
      ]
     },
     "metadata": {},
     "output_type": "display_data"
    }
   ],
   "source": [
    "plt.figure(figsize=(17,10))\n",
    "plt.plot(actions_length)\n",
    "plt.plot([np.mean(actions_length)] * len(actions_length))\n",
    "plt.title('action length')\n",
    "plt.show()"
   ]
  },
  {
   "cell_type": "markdown",
   "metadata": {},
   "source": [
    "## Actions frequency"
   ]
  },
  {
   "cell_type": "code",
   "execution_count": 27,
   "metadata": {},
   "outputs": [
    {
     "data": {
      "image/png": "[encoded data removed]",
      "text/plain": [
       "<Figure size 1224x720 with 1 Axes>"
      ]
     },
     "metadata": {},
     "output_type": "display_data"
    }
   ],
   "source": [
    "actions_count = np.zeros(6)\n",
    "for episode in stimulator.episodes:    \n",
    "    for action in episode.actions:\n",
    "        actions_count[action] += 1\n",
    "        \n",
    "plt.figure(figsize=(17,10))\n",
    "plt.bar(range(0,6), actions_count)\n",
    "plt.title('actions count')\n",
    "plt.show()"
   ]
  },
  {
   "cell_type": "markdown",
   "metadata": {},
   "source": [
    "# Some data preprocessing"
   ]
  },
  {
   "cell_type": "markdown",
   "metadata": {},
   "source": [
    "Remove episodes with too small length. Maybe it is suicide."
   ]
  },
  {
   "cell_type": "code",
   "execution_count": 28,
   "metadata": {},
   "outputs": [
    {
     "data": {
      "text/plain": [
       "2251"
      ]
     },
     "execution_count": 28,
     "metadata": {},
     "output_type": "execute_result"
    }
   ],
   "source": [
    "episodes = [episode for episode in stimulator.episodes if episode.get_num_steps() > min_episode_length or episode.reward[-1] == 1]\n",
    "len(episodes)"
   ]
  },
  {
   "cell_type": "markdown",
   "metadata": {},
   "source": [
    "Let's remove consequtive actions. I will use threshold 12."
   ]
  },
  {
   "cell_type": "code",
   "execution_count": 22,
   "metadata": {},
   "outputs": [
    {
     "data": {
      "application/vnd.jupyter.widget-view+json": {
       "model_id": "05d8b36b07b747e293db0625f8e906b6",
       "version_major": 2,
       "version_minor": 0
      },
      "text/plain": [
       "HBox(children=(IntProgress(value=0, max=2202), HTML(value='')))"
      ]
     },
     "metadata": {},
     "output_type": "display_data"
    },
    {
     "name": "stdout",
     "output_type": "stream",
     "text": [
      "\n"
     ]
    }
   ],
   "source": [
    "threshold = 12\n",
    "\n",
    "for episode in tqdm(episodes):\n",
    "    # New observations\n",
    "    obs = []\n",
    "    act = []\n",
    "    rew = []\n",
    "    \n",
    "    # Initial values\n",
    "    cur_action = episode.actions[0]\n",
    "    seq_length = 0\n",
    "    for ind in range(len(episode.actions)):\n",
    "        # Current action\n",
    "        action = episode.actions[ind]\n",
    "        \n",
    "        # If an action the same\n",
    "        if action == cur_action:\n",
    "            seq_length += 1\n",
    "        else:\n",
    "            seq_length = 0\n",
    "            cur_action = action\n",
    "        # If a sequence is less than threashold\n",
    "        if seq_length <= threshold:\n",
    "            obs.append(episode.observations[ind])\n",
    "            act.append(episode.actions[ind])\n",
    "            rew.append(episode.reward[ind])\n",
    "    \n",
    "    # Save preprocessed observations\n",
    "    episode.actions      = act\n",
    "    episode.observations = obs\n",
    "    episode.reward       = rew"
   ]
  },
  {
   "cell_type": "markdown",
   "metadata": {},
   "source": [
    "Let's rerun plots."
   ]
  },
  {
   "cell_type": "markdown",
   "metadata": {},
   "source": [
    "## Save stuff"
   ]
  },
  {
   "cell_type": "code",
   "execution_count": 33,
   "metadata": {
    "collapsed": true
   },
   "outputs": [],
   "source": [
    "observations = []\n",
    "actions = []\n",
    "rewards = []\n",
    "for episode in stimulator.episodes:\n",
    "    observations.append(episode.observations)\n",
    "    actions.append(episode.actions)\n",
    "    rewards.append(episode.reward)\n",
    "\n",
    "observations_merged = np.concatenate(observations)\n",
    "actions_merged = np.concatenate(actions)\n",
    "rewards_merged = np.concatenate(rewards)"
   ]
  },
  {
   "cell_type": "code",
   "execution_count": 30,
   "metadata": {
    "collapsed": true
   },
   "outputs": [],
   "source": [
    "np.save(train_data_obs, observations_merged)\n",
    "np.save(train_data_labels, actions_merged)\n",
    "np.save(train_data_reward, rewards_merged)"
   ]
  },
  {
   "cell_type": "code",
   "execution_count": null,
   "metadata": {
    "collapsed": true
   },
   "outputs": [],
   "source": [
    "observations_merged = np.load(train_data_obs)\n",
    "actions_merged      = np.load(train_data_labels)\n",
    "rewards_merged      = np.load(train_data_reward)"
   ]
  },
  {
   "cell_type": "code",
   "execution_count": 34,
   "metadata": {},
   "outputs": [
    {
     "data": {
      "text/plain": [
       "((670725,), (670725,), (670725,))"
      ]
     },
     "execution_count": 34,
     "metadata": {},
     "output_type": "execute_result"
    }
   ],
   "source": [
    "observations_merged.shape, actions_merged.shape, rewards_merged.shape"
   ]
  },
  {
   "cell_type": "code",
   "execution_count": 41,
   "metadata": {},
   "outputs": [
    {
     "data": {
      "text/plain": [
       "{'alive': [10, 11, 12, 13],\n",
       " 'ammo': 1,\n",
       " 'blast_strength': 2,\n",
       " 'board': array([[ 0,  0,  0,  2,  1,  1,  1,  0,  0,  1,  2],\n",
       "        [ 0, 10,  0,  0,  2,  2,  2,  0,  0, 13,  2],\n",
       "        [ 0,  0,  0,  2,  1,  1,  2,  2,  1,  0,  0],\n",
       "        [ 2,  0,  2,  0,  0,  2,  1,  2,  1,  0,  2],\n",
       "        [ 1,  2,  1,  0,  0,  0,  1,  2,  1,  2,  2],\n",
       "        [ 1,  2,  1,  2,  0,  0,  1,  1,  1,  2,  1],\n",
       "        [ 1,  2,  2,  1,  1,  1,  0,  1,  1,  2,  2],\n",
       "        [ 0,  0,  2,  2,  2,  1,  1,  0,  0,  0,  1],\n",
       "        [ 0,  0,  1,  1,  1,  1,  1,  0,  0,  0,  0],\n",
       "        [ 1, 11,  0,  0,  2,  2,  2,  0,  0, 12,  0],\n",
       "        [ 2,  2,  0,  2,  2,  1,  2,  1,  0,  0,  0]], dtype=uint8),\n",
       " 'bomb_blast_strength': array([[0., 0., 0., 0., 0., 0., 0., 0., 0., 0., 0.],\n",
       "        [0., 0., 0., 0., 0., 0., 0., 0., 0., 0., 0.],\n",
       "        [0., 0., 0., 0., 0., 0., 0., 0., 0., 0., 0.],\n",
       "        [0., 0., 0., 0., 0., 0., 0., 0., 0., 0., 0.],\n",
       "        [0., 0., 0., 0., 0., 0., 0., 0., 0., 0., 0.],\n",
       "        [0., 0., 0., 0., 0., 0., 0., 0., 0., 0., 0.],\n",
       "        [0., 0., 0., 0., 0., 0., 0., 0., 0., 0., 0.],\n",
       "        [0., 0., 0., 0., 0., 0., 0., 0., 0., 0., 0.],\n",
       "        [0., 0., 0., 0., 0., 0., 0., 0., 0., 0., 0.],\n",
       "        [0., 0., 0., 0., 0., 0., 0., 0., 0., 0., 0.],\n",
       "        [0., 0., 0., 0., 0., 0., 0., 0., 0., 0., 0.]]),\n",
       " 'bomb_life': array([[0., 0., 0., 0., 0., 0., 0., 0., 0., 0., 0.],\n",
       "        [0., 0., 0., 0., 0., 0., 0., 0., 0., 0., 0.],\n",
       "        [0., 0., 0., 0., 0., 0., 0., 0., 0., 0., 0.],\n",
       "        [0., 0., 0., 0., 0., 0., 0., 0., 0., 0., 0.],\n",
       "        [0., 0., 0., 0., 0., 0., 0., 0., 0., 0., 0.],\n",
       "        [0., 0., 0., 0., 0., 0., 0., 0., 0., 0., 0.],\n",
       "        [0., 0., 0., 0., 0., 0., 0., 0., 0., 0., 0.],\n",
       "        [0., 0., 0., 0., 0., 0., 0., 0., 0., 0., 0.],\n",
       "        [0., 0., 0., 0., 0., 0., 0., 0., 0., 0., 0.],\n",
       "        [0., 0., 0., 0., 0., 0., 0., 0., 0., 0., 0.],\n",
       "        [0., 0., 0., 0., 0., 0., 0., 0., 0., 0., 0.]]),\n",
       " 'can_kick': False,\n",
       " 'enemies': [<Item.Agent1: 11>, <Item.Agent2: 12>, <Item.Agent3: 13>],\n",
       " 'position': (1, 1),\n",
       " 'teammate': <Item.AgentDummy: 9>}"
      ]
     },
     "execution_count": 41,
     "metadata": {},
     "output_type": "execute_result"
    }
   ],
   "source": [
    "observations_merged[0]"
   ]
  },
  {
   "cell_type": "markdown",
   "metadata": {},
   "source": [
    "## Featurize"
   ]
  },
  {
   "cell_type": "code",
   "execution_count": 45,
   "metadata": {
    "collapsed": true
   },
   "outputs": [],
   "source": [
    "def make_centered(board, position, view_size=BOARD_SIZE * 2 - 1, crop=False):\n",
    "    # If it is a perk channel, just return the resized full array\n",
    "    if np.all(board == 1):\n",
    "        return np.full((view_size, view_size, 1), 1)\n",
    "    \n",
    "    # make sure of odd view_size\n",
    "    view_size = view_size + 1 if view_size % 2 == 0 else view_size \n",
    "    \n",
    "    # TODO: what should be the value of the off world? maybe defining an edge channel?\n",
    "    agent_view = np.zeros((view_size, view_size, 1)) # agent centric full-world coverage\n",
    "    center = (view_size // 2 + 1, view_size // 2 + 1)\n",
    "    \n",
    "    # copy board to the new view\n",
    "    offset_y = center[0] - position[0] - 1\n",
    "    offset_x = center[1] - position[1] - 1\n",
    "    agent_view[offset_y:offset_y+BOARD_SIZE, offset_x:offset_x+BOARD_SIZE, :] = board\n",
    "    \n",
    "    # finalize view size\n",
    "    r = BOARD_SIZE // 2\n",
    "    start, end = center[0]-r-1, center[0]+r\n",
    "    if crop:\n",
    "        agent_view = agent_view[start:end, start:end, :]\n",
    "    \n",
    "    return np.array(agent_view, dtype=np.float32)\n",
    "\n",
    "def featurize(obs, center=True, crop=False):\n",
    "    shape = (BOARD_SIZE, BOARD_SIZE, 1)\n",
    "\n",
    "    def get_matrix(board, key):\n",
    "        res = board[key]\n",
    "        return res.reshape(shape).astype(np.float32)\n",
    "\n",
    "    def get_map(board, item):\n",
    "        map = np.zeros(shape)\n",
    "        map[board == item] = 1\n",
    "        return map\n",
    "\n",
    "    board = get_matrix(obs, 'board')\n",
    "\n",
    "    path_map       = get_map(board, 0)          # Empty space\n",
    "    rigid_map      = get_map(board, 1)          # Rigid = 1\n",
    "    wood_map       = get_map(board, 2)          # Wood = 2\n",
    "    bomb_map       = get_map(board, 3)          # Bomb = 3\n",
    "    flames_map     = get_map(board, 4)          # Flames = 4\n",
    "    fog_map        = get_map(board, 5)          # TODO: not used for first two stages Fog = 5\n",
    "    extra_bomb_map = get_map(board, 6)          # ExtraBomb = 6\n",
    "    incr_range_map = get_map(board, 7)          # IncrRange = 7\n",
    "    kick_map       = get_map(board, 8)          # Kick = 8\n",
    "    skull_map      = get_map(board, 9)          # Skull = 9\n",
    "\n",
    "    position = obs[\"position\"]\n",
    "    my_position = np.zeros(shape)\n",
    "    my_position[position[0], position[1], 0] = 1\n",
    "\n",
    "    team_mates = get_map(board, obs[\"teammate\"].value) # TODO during documentation it should be an array\n",
    "\n",
    "    enemies = np.zeros(shape)\n",
    "    for enemy in obs[\"enemies\"]:\n",
    "        enemies[board == enemy.value] = 1\n",
    "\n",
    "    bomb_blast_strength = get_matrix(obs, 'bomb_blast_strength')\n",
    "    bomb_life           = get_matrix(obs, 'bomb_life')\n",
    "\n",
    "    ammo           = np.full((BOARD_SIZE, BOARD_SIZE, 1), obs[\"ammo\"])\n",
    "    blast_strength = np.full((BOARD_SIZE, BOARD_SIZE, 1), obs[\"blast_strength\"])\n",
    "    can_kick       = np.full((BOARD_SIZE, BOARD_SIZE, 1), int(obs[\"can_kick\"]))\n",
    "    \n",
    "    maps = [my_position, enemies, team_mates, path_map, rigid_map, \n",
    "                          wood_map, bomb_map, flames_map, fog_map, extra_bomb_map,\n",
    "                          incr_range_map, kick_map, skull_map, bomb_blast_strength,\n",
    "                          bomb_life, ammo, blast_strength, can_kick]\n",
    "    \n",
    "    if center:\n",
    "        maps = [make_centered(m, position, crop=crop) for m in maps]\n",
    "    \n",
    "    obs = np.concatenate(maps, axis=2)\n",
    "    return obs.astype(np.int16)"
   ]
  },
  {
   "cell_type": "code",
   "execution_count": 46,
   "metadata": {},
   "outputs": [
    {
     "data": {
      "application/vnd.jupyter.widget-view+json": {
       "model_id": "4015a83dee4346f8a9b35c77ca9d969a",
       "version_major": 2,
       "version_minor": 0
      },
      "text/plain": [
       "HBox(children=(IntProgress(value=0, max=2400), HTML(value='')))"
      ]
     },
     "metadata": {},
     "output_type": "display_data"
    },
    {
     "data": {
      "text/plain": [
       "2400"
      ]
     },
     "execution_count": 46,
     "metadata": {},
     "output_type": "execute_result"
    }
   ],
   "source": [
    "observations_map = [np.array([featurize(obs, center=True, crop=False) for obs in episode]) for episode in tqdm(observations)]\n",
    "len(observations_map)"
   ]
  },
  {
   "cell_type": "markdown",
   "metadata": {},
   "source": [
    "Check that our agent is in the center"
   ]
  },
  {
   "cell_type": "code",
   "execution_count": 49,
   "metadata": {},
   "outputs": [
    {
     "data": {
      "text/plain": [
       "array([[0, 0, 0, 0, 0, 0, 0, 0, 0, 0, 0, 0, 0, 0, 0, 0, 0, 0, 0, 0, 0],\n",
       "       [0, 0, 0, 0, 0, 0, 0, 0, 0, 0, 0, 0, 0, 0, 0, 0, 0, 0, 0, 0, 0],\n",
       "       [0, 0, 0, 0, 0, 0, 0, 0, 0, 0, 0, 0, 0, 0, 0, 0, 0, 0, 0, 0, 0],\n",
       "       [0, 0, 0, 0, 0, 0, 0, 0, 0, 0, 0, 0, 0, 0, 0, 0, 0, 0, 0, 0, 0],\n",
       "       [0, 0, 0, 0, 0, 0, 0, 0, 0, 0, 0, 0, 0, 0, 0, 0, 0, 0, 0, 0, 0],\n",
       "       [0, 0, 0, 0, 0, 0, 0, 0, 0, 0, 0, 0, 0, 0, 0, 0, 0, 0, 0, 0, 0],\n",
       "       [0, 0, 0, 0, 0, 0, 0, 0, 0, 0, 0, 0, 0, 0, 0, 0, 0, 0, 0, 0, 0],\n",
       "       [0, 0, 0, 0, 0, 0, 0, 0, 0, 0, 0, 0, 0, 0, 0, 0, 0, 0, 0, 0, 0],\n",
       "       [0, 0, 0, 0, 0, 0, 0, 0, 0, 0, 0, 0, 0, 0, 0, 0, 0, 0, 0, 0, 0],\n",
       "       [0, 0, 0, 0, 0, 0, 0, 0, 0, 0, 0, 0, 0, 0, 0, 0, 0, 0, 0, 0, 0],\n",
       "       [0, 0, 0, 0, 0, 0, 0, 0, 0, 0, 1, 0, 0, 0, 0, 0, 0, 0, 0, 0, 0],\n",
       "       [0, 0, 0, 0, 0, 0, 0, 0, 0, 0, 0, 0, 0, 0, 0, 0, 0, 0, 0, 0, 0],\n",
       "       [0, 0, 0, 0, 0, 0, 0, 0, 0, 0, 0, 0, 0, 0, 0, 0, 0, 0, 0, 0, 0],\n",
       "       [0, 0, 0, 0, 0, 0, 0, 0, 0, 0, 0, 0, 0, 0, 0, 0, 0, 0, 0, 0, 0],\n",
       "       [0, 0, 0, 0, 0, 0, 0, 0, 0, 0, 0, 0, 0, 0, 0, 0, 0, 0, 0, 0, 0],\n",
       "       [0, 0, 0, 0, 0, 0, 0, 0, 0, 0, 0, 0, 0, 0, 0, 0, 0, 0, 0, 0, 0],\n",
       "       [0, 0, 0, 0, 0, 0, 0, 0, 0, 0, 0, 0, 0, 0, 0, 0, 0, 0, 0, 0, 0],\n",
       "       [0, 0, 0, 0, 0, 0, 0, 0, 0, 0, 0, 0, 0, 0, 0, 0, 0, 0, 0, 0, 0],\n",
       "       [0, 0, 0, 0, 0, 0, 0, 0, 0, 0, 0, 0, 0, 0, 0, 0, 0, 0, 0, 0, 0],\n",
       "       [0, 0, 0, 0, 0, 0, 0, 0, 0, 0, 0, 0, 0, 0, 0, 0, 0, 0, 0, 0, 0],\n",
       "       [0, 0, 0, 0, 0, 0, 0, 0, 0, 0, 0, 0, 0, 0, 0, 0, 0, 0, 0, 0, 0]],\n",
       "      dtype=int16)"
      ]
     },
     "execution_count": 49,
     "metadata": {},
     "output_type": "execute_result"
    }
   ],
   "source": [
    "observations_map[0][0][:,:,0]"
   ]
  },
  {
   "cell_type": "code",
   "execution_count": 67,
   "metadata": {},
   "outputs": [
    {
     "data": {
      "text/plain": [
       "array([[0, 0, 0, 0, 0, 0, 0, 0, 0, 0, 0, 0, 0, 0, 0, 0, 0, 0, 0, 0, 0],\n",
       "       [0, 0, 0, 0, 0, 0, 0, 0, 0, 0, 0, 0, 0, 0, 0, 0, 0, 0, 0, 0, 0],\n",
       "       [0, 0, 0, 0, 0, 0, 0, 0, 0, 0, 0, 0, 0, 0, 0, 0, 0, 0, 0, 0, 0],\n",
       "       [0, 0, 0, 0, 0, 0, 0, 0, 0, 0, 0, 0, 0, 0, 0, 0, 0, 0, 0, 0, 0],\n",
       "       [0, 0, 0, 0, 0, 0, 0, 0, 0, 0, 0, 0, 0, 0, 0, 0, 0, 0, 0, 0, 0],\n",
       "       [0, 0, 0, 0, 0, 0, 0, 0, 0, 0, 0, 0, 0, 0, 0, 0, 0, 0, 0, 0, 0],\n",
       "       [0, 0, 0, 0, 0, 0, 0, 0, 0, 0, 0, 0, 0, 0, 0, 0, 0, 0, 0, 0, 0],\n",
       "       [0, 0, 0, 0, 0, 0, 0, 0, 0, 0, 0, 0, 0, 0, 0, 0, 0, 0, 0, 0, 0],\n",
       "       [0, 0, 0, 0, 0, 0, 0, 0, 0, 0, 0, 0, 0, 0, 0, 0, 0, 0, 0, 0, 0],\n",
       "       [0, 0, 0, 0, 0, 0, 0, 0, 0, 1, 1, 1, 0, 0, 0, 0, 1, 1, 0, 0, 0],\n",
       "       [0, 0, 0, 0, 0, 0, 0, 0, 0, 1, 0, 1, 1, 0, 0, 0, 1, 1, 0, 0, 0],\n",
       "       [0, 0, 0, 0, 0, 0, 0, 0, 0, 1, 1, 1, 0, 0, 0, 0, 0, 0, 1, 1, 0],\n",
       "       [0, 0, 0, 0, 0, 0, 0, 0, 0, 0, 1, 0, 1, 1, 0, 0, 0, 0, 1, 0, 0],\n",
       "       [0, 0, 0, 0, 0, 0, 0, 0, 0, 0, 0, 0, 1, 1, 1, 0, 0, 0, 0, 0, 0],\n",
       "       [0, 0, 0, 0, 0, 0, 0, 0, 0, 0, 0, 0, 0, 1, 1, 0, 0, 0, 0, 0, 0],\n",
       "       [0, 0, 0, 0, 0, 0, 0, 0, 0, 0, 0, 0, 0, 0, 0, 1, 0, 0, 0, 0, 0],\n",
       "       [0, 0, 0, 0, 0, 0, 0, 0, 0, 1, 1, 0, 0, 0, 0, 0, 1, 1, 1, 0, 0],\n",
       "       [0, 0, 0, 0, 0, 0, 0, 0, 0, 1, 1, 0, 0, 0, 0, 0, 1, 1, 1, 1, 0],\n",
       "       [0, 0, 0, 0, 0, 0, 0, 0, 0, 0, 0, 1, 1, 0, 0, 0, 1, 1, 0, 1, 0],\n",
       "       [0, 0, 0, 0, 0, 0, 0, 0, 0, 0, 0, 1, 0, 0, 0, 0, 0, 1, 1, 1, 0],\n",
       "       [0, 0, 0, 0, 0, 0, 0, 0, 0, 0, 0, 0, 0, 0, 0, 0, 0, 0, 0, 0, 0]],\n",
       "      dtype=int16)"
      ]
     },
     "execution_count": 67,
     "metadata": {},
     "output_type": "execute_result"
    }
   ],
   "source": [
    "observations_map[0][0][:,:,3]"
   ]
  },
  {
   "cell_type": "markdown",
   "metadata": {},
   "source": [
    "## Add previous frames as history"
   ]
  },
  {
   "cell_type": "code",
   "execution_count": 68,
   "metadata": {
    "collapsed": true
   },
   "outputs": [],
   "source": [
    "def get_history(observations, i, axis=0):\n",
    "    if i < 4:\n",
    "        n_first = 4 - i\n",
    "        return np.concatenate([np.array([observations[0] for _ in range(n_first)]), np.array(observations[:i]).reshape(i, 21, 21, 18)], axis=0)\n",
    "    return np.stack(observations[i-4:i], axis)"
   ]
  },
  {
   "cell_type": "code",
   "execution_count": 71,
   "metadata": {},
   "outputs": [
    {
     "data": {
      "text/plain": [
       "(2, 4, 21, 21, 18)"
      ]
     },
     "execution_count": 71,
     "metadata": {},
     "output_type": "execute_result"
    }
   ],
   "source": [
    "np.array([get_history(observations_map[0], 0), get_history(observations_map[0], 1)]).shape"
   ]
  },
  {
   "cell_type": "code",
   "execution_count": 72,
   "metadata": {},
   "outputs": [
    {
     "data": {
      "application/vnd.jupyter.widget-view+json": {
       "model_id": "64f27ae2e48348889837a571903b6227",
       "version_major": 2,
       "version_minor": 0
      },
      "text/plain": [
       "HBox(children=(IntProgress(value=0, max=2400), HTML(value='')))"
      ]
     },
     "metadata": {},
     "output_type": "display_data"
    }
   ],
   "source": [
    "observations_map_history = [np.array([get_history(episode, i) for i in range(len(episode))], dtype=np.uint8) for episode in tqdm(observations_map)]"
   ]
  },
  {
   "cell_type": "code",
   "execution_count": 78,
   "metadata": {
    "collapsed": true
   },
   "outputs": [],
   "source": [
    "observations_map_history = np.concatenate(observations_map_history).astype(np.uint8)"
   ]
  },
  {
   "cell_type": "code",
   "execution_count": 80,
   "metadata": {},
   "outputs": [
    {
     "data": {
      "text/plain": [
       "(670725, 4, 21, 21, 18)"
      ]
     },
     "execution_count": 80,
     "metadata": {},
     "output_type": "execute_result"
    }
   ],
   "source": [
    "observations_map_history.shape"
   ]
  },
  {
   "cell_type": "code",
   "execution_count": 81,
   "metadata": {
    "collapsed": true
   },
   "outputs": [],
   "source": [
    "np.save(train_data_obs_map_history, observations_map_history)"
   ]
  },
  {
   "cell_type": "code",
   "execution_count": 82,
   "metadata": {},
   "outputs": [
    {
     "data": {
      "text/plain": [
       "(2400, 670725)"
      ]
     },
     "execution_count": 82,
     "metadata": {},
     "output_type": "execute_result"
    }
   ],
   "source": [
    "episode_lengths = np.array([len(episode) for episode in observations])\n",
    "len(episode_lengths), np.sum(episode_lengths)"
   ]
  },
  {
   "cell_type": "code",
   "execution_count": 83,
   "metadata": {
    "collapsed": true
   },
   "outputs": [],
   "source": [
    "np.save('./dataset/episode_lengths.npy', episode_lengths)"
   ]
  }
 ],
 "metadata": {
  "kernelspec": {
   "display_name": "Python 3",
   "language": "python",
   "name": "python3"
  },
  "language_info": {
   "codemirror_mode": {
    "name": "ipython",
    "version": 3
   },
   "file_extension": ".py",
   "mimetype": "text/x-python",
   "name": "python",
   "nbconvert_exporter": "python",
   "pygments_lexer": "ipython3",
   "version": "3.5.5"
  }
 },
 "nbformat": 4,
 "nbformat_minor": 2
}
